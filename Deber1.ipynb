{
 "cells": [
  {
   "cell_type": "markdown",
   "id": "091d4111-03f9-4a56-8841-42b91c3000d9",
   "metadata": {},
   "source": [
    "<img src=\"img/Recurso-26.png\" width='200'>\n",
    "\n",
    "## Deber\n",
    "![logo](img/python_logo.png)\n",
    "\n",
    "*Stalin Ramirez*\n",
    "\n"
   ]
  },
  {
   "cell_type": "code",
   "execution_count": 3,
   "id": "57c7b6d8-7bcc-4bac-beb2-27d5335d4be3",
   "metadata": {},
   "outputs": [
    {
     "name": "stdout",
     "output_type": "stream",
     "text": [
      "3abc\n"
     ]
    }
   ],
   "source": [
    "#Ejercicio 1 \n",
    "numero = 3\n",
    "cadena = 'abc'\n",
    "resultado = str(numero)+cadena\n",
    "print(resultado)"
   ]
  },
  {
   "cell_type": "code",
   "execution_count": 1,
   "id": "e21c104b-e80b-4353-be82-935f8d0e714e",
   "metadata": {},
   "outputs": [
    {
     "name": "stdout",
     "output_type": "stream",
     "text": [
      "Esta en el intervalo [a,b]? True\n"
     ]
    }
   ],
   "source": [
    "#Ejercicio 2\n",
    "a = 1\n",
    "b = 10\n",
    "N = 9\n",
    "resultado = a <= N < b\n",
    "print (\"Esta en el intervalo [a,b]?\",resultado)\n"
   ]
  },
  {
   "cell_type": "code",
   "execution_count": 2,
   "id": "27d31050-7bf9-437d-8d08-e75e7e6086c7",
   "metadata": {},
   "outputs": [
    {
     "name": "stdout",
     "output_type": "stream",
     "text": [
      "S2 se encuentra en S1 ? False\n"
     ]
    }
   ],
   "source": [
    "#Ejercicio 3\n",
    "S1 = \"programacion\"\n",
    "S2 = \"ion\"\n",
    "N1 = 1\n",
    "N2 = 5\n",
    "sub = S1[N1:N2+1]\n",
    "resultado = sub in S2\n",
    "print(\"S2 se encuentra en S1 ?\",resultado)"
   ]
  },
  {
   "cell_type": "code",
   "execution_count": 4,
   "id": "f52dc170-7f26-4db7-bad4-a48b2bdd72e1",
   "metadata": {},
   "outputs": [
    {
     "data": {
      "text/plain": [
       "{1, 2, 3, 4, 5, 6}"
      ]
     },
     "execution_count": 4,
     "metadata": {},
     "output_type": "execute_result"
    }
   ],
   "source": [
    "#Ejercicio 4\n",
    "lista = [1,2,3,3,4,4,5,6]\n",
    "set(lista)"
   ]
  },
  {
   "cell_type": "code",
   "execution_count": 18,
   "id": "d614366e-030b-426d-9ce6-3150a342d191",
   "metadata": {},
   "outputs": [
    {
     "name": "stdout",
     "output_type": "stream",
     "text": [
      "['platano', 'papaya', 'durazno']\n"
     ]
    }
   ],
   "source": [
    "#Ejercicio 5\n",
    "L = [\"platano\",\"pera\",\"durazno\"]\n",
    "S = \"pera\"\n",
    "T = \"papaya\"\n",
    "indice = L.index(S)\n",
    "L[indice]=T\n",
    "print(L)\n",
    "\n"
   ]
  },
  {
   "cell_type": "code",
   "execution_count": 23,
   "id": "3ba6b17a-bc17-4a23-ba53-7e820f5bf02a",
   "metadata": {},
   "outputs": [
    {
     "name": "stdout",
     "output_type": "stream",
     "text": [
      "(1, 2, 3, 4, 5, 10)\n"
     ]
    }
   ],
   "source": [
    "#Ejercicio 6\n",
    "tupla = (1,2,3,4,5,6)\n",
    "nueva_tupla = tupla[:-1]\n",
    "nuevo_valor = 10\n",
    "resultado = nueva_tupla + (nuevo_valor,)\n",
    "print(resultado)"
   ]
  },
  {
   "cell_type": "code",
   "execution_count": 29,
   "id": "e805086f-cc9b-431e-a48f-30d5cab2fe8d",
   "metadata": {},
   "outputs": [
    {
     "name": "stdout",
     "output_type": "stream",
     "text": [
      "[8, 6, 4, 2]\n"
     ]
    }
   ],
   "source": [
    "#Ejercicio 7\n",
    "lista = [1,2,3,4,5,6,7,8]\n",
    "nuevo = [x for x in lista if x % 2==0]\n",
    "resultado = nuevo[::-1]\n",
    "print(resultado)"
   ]
  },
  {
   "cell_type": "code",
   "execution_count": 33,
   "id": "494def9a-e0f3-4022-92a4-eb6a3816e0e6",
   "metadata": {},
   "outputs": [
    {
     "name": "stdout",
     "output_type": "stream",
     "text": [
      "(10, 20, 40, 50, 60)\n"
     ]
    }
   ],
   "source": [
    "#Ejercicio 8\n",
    "tupla = (10,20,30,40,50,60)\n",
    "i = 2\n",
    "nuevo = tupla[:i]+tupla[i+1:]\n",
    "print(nuevo)\n",
    " \n"
   ]
  },
  {
   "cell_type": "code",
   "execution_count": 2,
   "id": "507e8d28-adeb-49da-a8a1-9a25df1cc49f",
   "metadata": {},
   "outputs": [
    {
     "name": "stdout",
     "output_type": "stream",
     "text": [
      "La mediana es: 4\n"
     ]
    }
   ],
   "source": [
    "#Ejercicio 9\n",
    "numeros = [1,2,3,4,5,6,7,8,9]\n",
    "ordenada = sorted(numeros)\n",
    "mediana=len (ordenada)//2\n",
    "print(\"La mediana es:\",mediana)\n",
    "\n"
   ]
  },
  {
   "cell_type": "code",
   "execution_count": null,
   "id": "4ff2a7e3-302d-4b88-8d3d-8dd5e5f7b79b",
   "metadata": {},
   "outputs": [],
   "source": []
  }
 ],
 "metadata": {
  "kernelspec": {
   "display_name": "Python 3 (ipykernel)",
   "language": "python",
   "name": "python3"
  },
  "language_info": {
   "codemirror_mode": {
    "name": "ipython",
    "version": 3
   },
   "file_extension": ".py",
   "mimetype": "text/x-python",
   "name": "python",
   "nbconvert_exporter": "python",
   "pygments_lexer": "ipython3",
   "version": "3.11.13"
  }
 },
 "nbformat": 4,
 "nbformat_minor": 5
}
