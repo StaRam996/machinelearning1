{
 "cells": [
  {
   "cell_type": "markdown",
   "id": "4c1a61a6-fb73-4cee-96af-c5c95c1edacd",
   "metadata": {},
   "source": [
    "<img src=\"img/Recurso-26.png\" width='200'>\n",
    "\n",
    "## PARCIAL II\n",
    "## Deber 1\n",
    "![logo](img/python_logo.png)\n",
    "\n",
    "Realizado por : *Stalin Ramirez*\n",
    "<br>\n",
    "Link github : *Stalin Ramirez*"
   ]
  },
  {
   "cell_type": "markdown",
   "id": "5e429284-d4ec-4df1-a983-7345ee19aef2",
   "metadata": {},
   "source": [
    "1. Escribe una función que reciba como entrada una *lista* con números y devuelva como resultado una *lista* con los cuadrados de los números contenidos en la lista de entrada."
   ]
  },
  {
   "cell_type": "code",
   "execution_count": 8,
   "id": "7cf85973-7d7b-4a14-bb32-1784ac7bdf15",
   "metadata": {},
   "outputs": [
    {
     "name": "stdout",
     "output_type": "stream",
     "text": [
      "Los cuadrados son [4, 16, 36, 64, 100]\n"
     ]
    }
   ],
   "source": [
    "def cuadrados (lista):\n",
    "  resultado = [x * x for x in lista]\n",
    "  return resultado\n",
    "numeros=[2,4,6,8,10]\n",
    "print(\"Los cuadrados son\",cuadrados(numeros))"
   ]
  },
  {
   "cell_type": "markdown",
   "id": "5ad78644-50f3-4f8d-8a24-86c26fb5c321",
   "metadata": {},
   "source": [
    "2. Escribe una función que reciba números como entrada y devuelva la suma de los mismos. La función debe ser capaz de recibir una cantidad indeterminada de números. La función no debe recibir directamente ningún objeto complejo (lista, conjunto, etc.)."
   ]
  },
  {
   "cell_type": "code",
   "execution_count": 16,
   "id": "0e1be519-50f0-424e-bd79-a92d538e7603",
   "metadata": {},
   "outputs": [
    {
     "name": "stdout",
     "output_type": "stream",
     "text": [
      "la suma es  521\n"
     ]
    }
   ],
   "source": [
    "def numeros (*numeros):\n",
    "    total = 0\n",
    "    for x in numeros:\n",
    "         total = total + x\n",
    "    return total\n",
    "resultado = numeros (1,2,3,4,5,6,500)\n",
    "print(\"la suma es \",resultado)\n"
   ]
  },
  {
   "cell_type": "markdown",
   "id": "3cbbb43a-a300-4f34-be55-4e063bbac729",
   "metadata": {},
   "source": [
    "3. Escribe una función que reciba un string como entrada y devuelva el string al revés. Ejemplo: si el string de entrada es 'hola', el resultado será 'aloh'.\n"
   ]
  },
  {
   "cell_type": "code",
   "execution_count": 18,
   "id": "32846e3e-6201-461e-a0aa-8a2e882083f9",
   "metadata": {},
   "outputs": [
    {
     "name": "stdout",
     "output_type": "stream",
     "text": [
      "Resultado: ogaleicrum\n"
     ]
    }
   ],
   "source": [
    "def letras (texto):\n",
    "    invertido = texto [::-1]\n",
    "    return invertido \n",
    "palabra = \"murcielago\" \n",
    "resultado = letras(palabra)\n",
    "print(\"Resultado:\",resultado)\n",
    "    "
   ]
  },
  {
   "cell_type": "markdown",
   "id": "d00e6745-5bb5-4825-ae10-264209e318cc",
   "metadata": {},
   "source": [
    "4. Escribe una función *lambda* que, al igual que la función desarrollada en el ejercicio anterior, invierta el string recibido como parámetro. Ejemplo: si el string de entrada es 'hola', el resultado será 'aloh'."
   ]
  },
  {
   "cell_type": "code",
   "execution_count": 19,
   "id": "858c4ad2-5cfb-45f0-8723-3b0fc426e357",
   "metadata": {},
   "outputs": [
    {
     "name": "stdout",
     "output_type": "stream",
     "text": [
      "Resultado: ogaleicrum\n"
     ]
    }
   ],
   "source": [
    "invertir = lambda texto: texto [::-1]\n",
    "resultado = invertir(\"murcielago\")\n",
    "print(\"Resultado:\",resultado)\n"
   ]
  },
  {
   "cell_type": "markdown",
   "id": "52bf807e-89d7-4508-98f8-bd69d7b6e254",
   "metadata": {},
   "source": [
    "5. Escribe una función que compruebe si un número se encuentra dentro de un rango específico."
   ]
  },
  {
   "cell_type": "code",
   "execution_count": 3,
   "id": "11614af8-6d44-4fc9-8748-e6b42da5a031",
   "metadata": {},
   "outputs": [
    {
     "name": "stdout",
     "output_type": "stream",
     "text": [
      "El numero esta dentro del rango : False\n"
     ]
    }
   ],
   "source": [
    "def rango (numero,inicio,fin):\n",
    "    return inicio <= numero <= fin \n",
    "resultado = rango (100,200,500)   \n",
    "print(\"El numero esta dentro del rango :\",resultado)"
   ]
  },
  {
   "cell_type": "markdown",
   "id": "7e406f8f-8d09-4100-b3b1-18970fd2efba",
   "metadata": {},
   "source": [
    "6. Escribe una función que reciba un número entero positivo como parámetro y devuelva una lista que contenga los 5 primeros múltiplos de dicho número. Por ejemplo, si la función recibe el número 3, devolverá la lista [3, 6, 9, 12, 15]. Si la función recibe un parámetro incorrecto (por ejemplo, un múmero menor o igual a cero), mostrará un mensaje de error por pantalla y devolverá una lista vacía."
   ]
  },
  {
   "cell_type": "code",
   "execution_count": 6,
   "id": "09c5ee4c-81f8-4a29-8523-19e26d732875",
   "metadata": {},
   "outputs": [
    {
     "name": "stdout",
     "output_type": "stream",
     "text": [
      "Los 5 primeros múltiplos son: [3, 6, 9, 12, 15]\n"
     ]
    }
   ],
   "source": [
    "\n",
    "def multiplos(numero):\n",
    "    if numero <= 0:\n",
    "        print(\"Error: El número debe ser entero positivo\")  \n",
    "        return []  \n",
    "    lista = []  \n",
    "    for x in range(1, 6):  \n",
    "        lista.append(numero * x)  \n",
    "    return lista  \n",
    "resultado = multiplos(3)\n",
    "print(\"Los 5 primeros múltiplos son:\", resultado)\n",
    "\n"
   ]
  },
  {
   "cell_type": "markdown",
   "id": "2ddba46f-44ec-4e9a-aed2-2a99c35c5588",
   "metadata": {},
   "source": [
    "7. Escribe una función que reciba una lista como parámetro y compruebe si la lista tiene duplicados. La función devolverá *True* si la lista tiene duplicados y *False* si no los tiene."
   ]
  },
  {
   "cell_type": "code",
   "execution_count": 7,
   "id": "ff54c43d-a5f8-4bb3-bd0e-51d86694d75b",
   "metadata": {},
   "outputs": [
    {
     "name": "stdout",
     "output_type": "stream",
     "text": [
      "¿Tiene duplicados? True\n",
      "¿Tiene duplicados? False\n"
     ]
    }
   ],
   "source": [
    "\n",
    "def tiene_duplicados(lista):\n",
    "    elementos_vistos = set()\n",
    "    for elemento in lista:\n",
    "        if elemento in elementos_vistos:\n",
    "            return True  \n",
    "        elementos_vistos.add(elemento)\n",
    "    return False\n",
    "resultado = tiene_duplicados([1, 2, 3, 4, 2])\n",
    "print(\"¿Tiene duplicados?\", resultado)\n",
    "resultado2 = tiene_duplicados([1, 2, 3, 4])\n",
    "print(\"¿Tiene duplicados?\", resultado2)\n",
    "\n"
   ]
  },
  {
   "cell_type": "markdown",
   "id": "38cc2b12-7114-4112-a924-35b78185bd25",
   "metadata": {},
   "source": [
    "8. Escribe una función *lambda* que, al igual que la función desarrollada en el ejercicio anterior, reciba una lista como parámetro y compruebe si la lista tiene duplicados. La función devolverá *True* si la lista tiene duplicados y *False* si no los tiene."
   ]
  },
  {
   "cell_type": "code",
   "execution_count": 8,
   "id": "8ee551f9-4564-49ca-986c-e3c43998d0f3",
   "metadata": {},
   "outputs": [
    {
     "name": "stdout",
     "output_type": "stream",
     "text": [
      "¿Tiene duplicados? True\n",
      "¿Tiene duplicados? False\n"
     ]
    }
   ],
   "source": [
    "\n",
    "tiene_duplicados = lambda lista: len(lista) != len(set(lista))\n",
    "resultado = tiene_duplicados([1, 2, 3, 4, 2])\n",
    "print(\"¿Tiene duplicados?\", resultado)  \n",
    "resultado2 = tiene_duplicados([1, 2, 3, 4])\n",
    "print(\"¿Tiene duplicados?\", resultado2)  \n",
    "\n"
   ]
  },
  {
   "cell_type": "markdown",
   "id": "e6fbfd03-0a8c-46a6-a3cc-d541b1c6ad45",
   "metadata": {},
   "source": [
    "\n",
    "9. Escribe una función que compruebe si un string dado es un palíndromo. Un palíndromo es una secuencia de caracteres que se lee igual de izquierda a derecha que de derecha a izquierda. Por ejemplo, la función devolverá *True* si recibe el string \"reconocer\" y *False* si recibe el string \"python\"."
   ]
  },
  {
   "cell_type": "code",
   "execution_count": 9,
   "id": "e62a9418-0272-49a3-bfe4-dce41fca14be",
   "metadata": {},
   "outputs": [
    {
     "name": "stdout",
     "output_type": "stream",
     "text": [
      "True\n",
      "False\n"
     ]
    }
   ],
   "source": [
    "\n",
    "def es_palindromo(texto):\n",
    "    return texto == texto[::-1]\n",
    "\n",
    "print(es_palindromo(\"reconocer\"))  \n",
    "print(es_palindromo(\"python\"))     \n"
   ]
  },
  {
   "cell_type": "code",
   "execution_count": null,
   "id": "dbb0a920-9fc7-4a16-874f-65e54c69ab23",
   "metadata": {},
   "outputs": [],
   "source": []
  }
 ],
 "metadata": {
  "kernelspec": {
   "display_name": "Python 3 (ipykernel)",
   "language": "python",
   "name": "python3"
  },
  "language_info": {
   "codemirror_mode": {
    "name": "ipython",
    "version": 3
   },
   "file_extension": ".py",
   "mimetype": "text/x-python",
   "name": "python",
   "nbconvert_exporter": "python",
   "pygments_lexer": "ipython3",
   "version": "3.11.13"
  }
 },
 "nbformat": 4,
 "nbformat_minor": 5
}
