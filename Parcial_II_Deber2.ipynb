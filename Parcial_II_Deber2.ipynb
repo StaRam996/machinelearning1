{
 "cells": [
  {
   "cell_type": "markdown",
   "id": "1a2153d3-4641-4f64-8337-a69020e5c9e0",
   "metadata": {},
   "source": [
    "<img src=\"img/Recurso-26.png\" width='200'>\n",
    "\n",
    "## PARCIAL II\n",
    "## Deber 2\n",
    "![logo](img/python_logo.png)\n",
    "\n",
    "Realizado por : *Stalin Ramirez*\n",
    "<br>\n",
    "Link github : *https://github.com/StaRam996/machinelearning1.git*"
   ]
  },
  {
   "cell_type": "markdown",
   "id": "9f7b65d4-e67b-434f-8ca1-90c41921023f",
   "metadata": {},
   "source": [
    "1. Escribe una función que reciba una ruta de un fichero de texto y una cadena de caracteres a buscar y determine si la cadena aparece en el fichero."
   ]
  },
  {
   "cell_type": "code",
   "execution_count": 9,
   "id": "b5666874-2c62-4daa-b4f2-0e0b052f9b15",
   "metadata": {},
   "outputs": [
    {
     "name": "stdout",
     "output_type": "stream",
     "text": [
      "True\n"
     ]
    }
   ],
   "source": [
    "def buscar_cadena_en_archivo(ruta, cadena):\n",
    "    try:\n",
    "        with open(ruta, 'r', encoding='utf-8') as archivo:\n",
    "            contenido = archivo.read() \n",
    "            return cadena in contenido  \n",
    "    except FileNotFoundError:\n",
    "        print(\"El archivo no existe.\")\n",
    "        return False\n",
    "ruta = \"res/archivo.txt\"\n",
    "cadena = \"hola\"\n",
    "print(buscar_cadena_en_archivo(ruta, cadena))\n"
   ]
  },
  {
   "cell_type": "markdown",
   "id": "54e8c7fc-d522-41b6-9c1f-38c95a600b33",
   "metadata": {},
   "source": [
    "2. Escribe una función que reciba una lista, una ruta destino y un número *n*. La función debe crear un fichero en la ruta especificada. El contenido del fichero serán los primeros *n* elementos de la lista. La función debe controlar de manera apropiada los posibles valores de *n* que estén fuera de rango."
   ]
  },
  {
   "cell_type": "code",
   "execution_count": 11,
   "id": "e97bb8fb-931a-40d4-ba69-13fc4b22264a",
   "metadata": {},
   "outputs": [
    {
     "name": "stdout",
     "output_type": "stream",
     "text": [
      "Archivo guardado con 3 elementos.\n"
     ]
    }
   ],
   "source": [
    "def guardar_elementos_en_archivo(lista, ruta, n):\n",
    "    if n > len(lista):\n",
    "        n = len(lista)\n",
    "    with open(ruta, 'w', encoding='utf-8') as archivo:\n",
    "        for i in range(n):\n",
    "            archivo.write(str(lista[i]) + '\\n')\n",
    "    print(\"Archivo guardado con\", n, \"elementos.\")\n",
    "\n",
    "# Probar la función\n",
    "mi_lista = [10, 20, 30, 40, 50]\n",
    "guardar_elementos_en_archivo(mi_lista, \"res/resultado.txt\", 3)\n"
   ]
  },
  {
   "cell_type": "markdown",
   "id": "9e907b50-14e7-4459-933a-12b57e340de2",
   "metadata": {},
   "source": [
    "3. Escribe una función que reciba una ruta de un fichero de texto devuelva un diccionario con la frecuencia de aparición de cada palabra. Ejemplo: un fichero que contenga la frase 'es mejor que venga que que no venga' devolverá el siguiente diccionario: {'es' : 1, 'mejor' : 1, 'que' : 3, 'venga' : 2, 'no' : 1}. Para dividir un string en palabras puedes hacer uso del método *split*."
   ]
  },
  {
   "cell_type": "code",
   "execution_count": 13,
   "id": "24423be4-2a88-4208-99fb-05d6f37bc3ca",
   "metadata": {},
   "outputs": [
    {
     "name": "stdout",
     "output_type": "stream",
     "text": [
      "Frecuencia de palabras: {'hola': 2, 'mundo': 2, 'corazon': 1, 'perro': 1}\n"
     ]
    }
   ],
   "source": [
    "def frecuencia_palabras_en_archivo(ruta):\n",
    "    try:\n",
    "        with open(ruta, 'r', encoding='utf-8') as archivo:\n",
    "            contenido = archivo.read()  \n",
    "        palabras = contenido.split()  \n",
    "        frecuencia = {}  \n",
    "        for palabra in palabras:\n",
    "            if palabra in frecuencia:\n",
    "                frecuencia[palabra] += 1 \n",
    "            else:\n",
    "                frecuencia[palabra] = 1         \n",
    "        return frecuencia  \n",
    "    except FileNotFoundError:\n",
    "        print(\"El archivo no existe.\")\n",
    "        return {} \n",
    "ruta_archivo = \"res/diccionario.txt\"  \n",
    "resultado = frecuencia_palabras_en_archivo(ruta_archivo)\n",
    "print(\"Frecuencia de palabras:\", resultado)\n"
   ]
  },
  {
   "cell_type": "code",
   "execution_count": null,
   "id": "33e4ce69-1c5b-42b2-874b-ebd557bcf9dc",
   "metadata": {},
   "outputs": [],
   "source": []
  }
 ],
 "metadata": {
  "kernelspec": {
   "display_name": "Python 3 (ipykernel)",
   "language": "python",
   "name": "python3"
  },
  "language_info": {
   "codemirror_mode": {
    "name": "ipython",
    "version": 3
   },
   "file_extension": ".py",
   "mimetype": "text/x-python",
   "name": "python",
   "nbconvert_exporter": "python",
   "pygments_lexer": "ipython3",
   "version": "3.11.13"
  }
 },
 "nbformat": 4,
 "nbformat_minor": 5
}
