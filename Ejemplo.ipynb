{
 "cells": [
  {
   "cell_type": "markdown",
   "id": "eb909888-13e3-4162-ae86-971a2566f633",
   "metadata": {},
   "source": [
    "#Introduccion\n",
    "este es un documento de Python que me permite entender las bases de este lenguaje de programacion,<br>\n",
    "<img src=\"data:image/jpeg;base64,/9j/4AAQSkZJRgABAQAAAQABAAD/2wCEAAkGBxAQDw8NEA8NDw0NDQ8NDQ0NDw8NDQ0NFREWFhURFRUYHSggGBonGxUVITEhJSkrLi4uFx8zODMsNzQtLisBCgoKDg0OFRAQFS0dFR0rLSstKysrLSsrLTctLS0tLSstKy0tLSstKysrLS0tLS0rLS0rLSstKysuKysuKysrK//AABEIALcBEwMBEQACEQEDEQH/xAAcAAABBQEBAQAAAAAAAAAAAAACAAEDBAUGBwj/xABIEAABAwIDBQQFBQ8BCQAAAAABAAIDBBEFEiEGMUFRcRMiYYEHFFKRoRcyQlSSIzRVcnN0gpOisbKzwdHSJBUWNUNitMLh8P/EABoBAQEAAwEBAAAAAAAAAAAAAAABAgMEBQb/xAA3EQEAAQMCAwQIBQQCAwAAAAAAAQIDEQQSEyExBRRRcSIyQVJhkbHRFTNCgfBTocHhQ3IjNGL/2gAMAwEAAhEDEQA/AM0BfLvrTgKCpWnQrv00PN1cuRrD3ivUoeTUaCgL9y6qbOYc1VzEpJ8Ge3grwZOLCu7DX8isJtSsXIQupXDgVjsllvhGYzyU2yu41iphckgZFOCgLMgV0CuiHBUVNHUEblJpXcuwYzI3cVjshdzQi2pkAtdThrvWI9qDxWM22XEWo9pm8VOGvEW49oozvWE2mUXcJ2YtEeIWubDbF+UzauI8Qtc6dtjUyMGM/SCwnTtkas/ZN5ha507bGrN2HisJ08s41UGNOVjNiWyNTEhMJWE2pZRfpCYiseHLOLtISwqbZZRXBrKTEsoqgbVhMM4lIscLlWC2NZ0FDED3SvS00PJ1c83IVD+8eq9KmHmVNLDKsNIK9G3ViHFXRMy2JsSDwNFtprhrqolZp6yG1nAKTiUjMHnbA4aWurFMSTMqEVBE4ncrVbgiuUFThLM1hZYcGGXFkE2ADLda+BDPiqQwUncsatOyi8rzYS9vBYcCWfFhCcOfyKwm1MMouQidSuHArHhyu6EZiPJTbK5NlKxxK5NZAkUgiCCBXQIPPNAQmcOJUwqRtY8cSmDKZmJyD6RU2wbpWI8ckHEqbIXfKzHtG8cVjw4XiStxbTnipNqGUXZW4tpxxWE2WcXpWo9oozvssZsM4vyssxiE8QsJsM41Epm1sR4ha507ZGplI2WM7iFhOmbI1cjuzmFr7q2d7UAuJ6YipHVjLNxQ90r1dNDx9VPNxkxu49V6NLzal6j0IJ3LqimZhqiqInm2YZY+K1VU1wzrrplFVFtu6Vsomr2uOepqGMu4rqziDGV5tI++hWVNWWM04O6klGuqyyxwZ75QLEFAMNS5p3JPMKeqzbwrAnp6llrELGYyyiUdX2btwCkUws1SGmo4nDxUqohlFQpMEYdwPuWHC+DLix4qVVgVtwJ6AqcD4Lxo8VVuCOPAjqLLGqxhnF2JRzYI9outfBZb1T1F26yxmzK74RSUjhvCx4UruAad3IrHZK5AWHkptlcmIUwGsoEgSIdAroHzFAQlPMphRtqnjiVMQZlMzEJB9Ipthd0pP9rycypshd0u0C+bfViurHVjV0ZGMus0r1dPHJ4mpnm5Rgu/zXo0dXnVt+lpmlq9Sink4a6uYm0oJWU0Qw3SXqVzZTZC7k0URYbBXZEpulMKtzDqm2Ig3TKw3F+YWGYZ4lK3EWHeE5CGSeMncFlDFYYyEjgooYaKOQnL81ps53jyCyojd5MLlUUea7FQRN3MBPN3ePxW6KYhzzXVPtT7t2nTRZMAEoAJUUJKCN4BFipNMT7GdNdUdJZk8HZHP85nHm3r4LVXTiHVau7uU9VSpnY46ALXGG7K1AISLGywmIZxKKroorXFlIoiTcp0+GNeUqtQsVI67CQzcsYsxK7mc6kSdObwGlK1zp5XeA05WM2JXcExFYcKV3BLCsdkrkOUqbZMlZTAcFFCoPRAvmn1pyrT1Y19GJjru6V69iOTwdRPNzlILv8ANehb6uCvo66ioczL3Xp01YhxVQkFA4bllua9ofVnt1srmDCIFwdqERFVtJO5Y1dGynqiaBpcLjmmp0xVDRijiI8Vj6UHIIo2HcVd9UG2FXFIDHGSHb9FZuzhItw3MFiyU0LeJjD3eLnd4/vXoWoxRS829Oa6mbjfrDyeze+NjdAIyWlx5kjVc129OZiJxh1WrMbYmYzlBs3iUr3vgmJcWtzsefnWBALSeO8fFZae9NUzTLDUWYpiKobxK6nKAlABKKElBG+xBB1BFiDuIUWOTk6lhY97PZcQOnD4LiqjEzDvpnMRIBKRxUyyF6w7mmQcdW5u4q7gclaXbyrFWFB2oWXEQ+cLLiKbRXfBksgTMLkJiCYpkyAwBTh0ruCacLGbNMruMyjubLCbELFTVZs6SAea0zaZZdAAvj32J3LO31ars+i57H3aL2LEcngX55sTDx3l20TiXJVGXSwVLmiwXXF5zzbWI65wWfFiWHDlKMRPEKxXDGaJRtqQXXIWe+E2ysyVEZ4BIkwF8cRHBBBT07S619FZiCJTvoddHLDbC7pZeP0z2xjW4utddMYbKKpdDh5+4Q/kY/4Au6j1Y8nnXPWnzBVMefm5ejtFou6fdOYdFrU7YimVTDcP7Jz5XEGR+nd+a1t728eHuVs2dmZnqxv3+JiI6LpK6HOElFASgAlQASisaupC6Rzudv3BcN2rFcu+zT6EKxoisN8Nm1E6lKu6ExIDTlXMIAxFAxYUDWKBaoFmKocPKZDiRXdIftFd8qJk1jdXeZaTMZcAByWOV3N8BfEPtjPW21HNpvz6LmNoHL2bXR8/d6s3DG95dMOeXWYbQ51ou3trbRby0X4JpdaY1azZZVXSlhsuq3d3NNVGCpKUv3LbNcw1ThJLQOBssqbsrthGaR44FbIuyx4cB7N7ddVnxpY8ODiZ/isovJwlLGqh7mAanVSq5EwU0TDRpMchbHGwmTM2NjXfc3bw0Arqp1FEREZcdWnrmqZwkOPQc5P1bll3ijxY93r8DHG4eb/sOTj0Hd6wnGod9328WOTj0LwK1uKUPa17fmuAI4aLbExMZhqmMTiSJRAEooCUFOXNmNv/ALRcd6iN0y77EztiIDd3JaYt56Ns1Y6mJ5hThyb4IZeIU2zBugIjYpzXkXqzCrmTEIX0QTfKbQGhV3m0HqBV3ptRPoyFluhNsgNKeSuYTEgNOUzAjMZQDkKDuLL4p9wGTct9nq5tTPouUxx2q9i30eDc6q+GjVdENEuuweqa3Qrj1FqZ6Oi3cxGG0+vbawK4uFVDfTVEsPFJg46Lu09Ex1c96qJ6IqOcx62XdGHFXRlbjxEE3ITkyiMQuNxKO4ba7naBoFySrTEzOI6kzFMZnonkyn6AHxXdRpI/XLhr1c/phAYWeyFv7vb91p7xc95E+ljO9jU7vb907xc95EaKL2G/FOBb9049z3gmji9hvxTg2/A41zxAaSP2G/FXhUeBxa/EElFE4WLARy1ThUeBxa/EbGBrQ1os1osByCziMRiGEzmcyYlABKACVBb2PMc2KRUksYfG5spINwDaJzhu8V4/a16q3aqmicTGHqaKno9S/wB1qH6tH73/AN18zHaOqjpcn+32elVZoq6wjn2ToXi3YBvixz2kfFZ09q6qmc78+cR9mE6W3PscRtFsj6q4StJkpnG2YjvxuO4Otp0P/q/u6LtOnUxtmMXI+U+X2edqdPVa5xzpYk1CwmwK9Gjn1c9MyjfhltxWe2GeZUnwOvYFSbcLFcnFO9YcOJZb5F2cjeCnCXiInScwpwZXiwXaDkseHMLFcHeWkblNsst0MuYa6JzOSNN0mIdmAvj32iKfcunT9XHqp5ONxl/fK9i3HJ4dc8xYWFvholqtVwJA93NY7YXMk066phJlr08kZbY2WTFn1JY0l3AIq9glP3e3Pz5fm/8ATFwA67/cvS0lrbTunrLzdVd3VbY6Q0SV1uUJKACVFASgAlABKKElQASigJQASoBQWNgv+Ow/iTf9u5fO9sfl3P2/w9jRdKXtpK+Vy9MxKxyqCrgbLG+J4uyRpY4eB/qrbuVW6orpnnCVURVExPSXilfE+CaSFx70UjmE7s1jo7zFj5r7izqYuUU1x0mMvHqsbZmEXrTua3RehhNuUfam91lxYlOHMLENXY3KsVQk0ytHEGkagLKJhMSz5nAuut1Mw01RKWmYwnVSrBRn2r8lBFluCtbaoQ4e1ziFZpgiZE7Bm3WO2F3SvhfCvvEFUdD0XZpo5vP1c8nD4s67z1XsUdHi19V3C26LbDU1BG4cFQ91EG2MnVAYicqM7Fg7uxj50jg0dSbBIjM48SZiIy7FrQ0Bo3NAaOgFgvciMRh4kzmcyYlVAEqKAlABKKElABKACVFASgAlQCgSDR9GlKZcYfMB3KankcXcA51o2jzBcf0V8v2zdjhz/wDU/T+Q9zSUTEUx4Q9iJXzGXohJUypiVjMq8t9ItLkre0A0nhY8nm9t2H4Nb719J2Tc3WNvuz/twainFfm5dem0ErkJXMpglYqk2wZZcSWM0QcFZRdljw4H2zt11lF5JtHjmLdQs+Mx4QzVu5rLjQx4ctQL4h90q1x7p6Lv00PM1kuHrjd56r1qXjVNfCLC11shg6CaVhZYWuskZrgsVTMmtoqi9BVt4hEZ1XI2Stp2gaB4d5tBd/RbbEZuU+bXenFup0ZK9h5ACUAEqKjJQCSihJQASoAJRQEoAUCRUcjibNY1z5JCGRxsGZ73ncAOK4tTqqaaZiJ85ddjTzMxNUfs9T2G2d9RpiH5TVVBElQ5uoabd2MHiGgnzJK+J12q49zMerHT7/u9y1b2x8XRErhy3BJWOVCSsZlXF+kijL200g3tMrD0cGkfwle32LXzuU+U/VyaqOkuFdRuHBe+5ERhI4IhuzKASw8kDEIGQOgZUJUbtl8q+wlQxI909F6Omh5Grnm4yZt3+a9Ol5dUNWkFgFshrW2kqgiVAg5AQcgqUTv9fD1d/Lct+n/Np/nslp1H5VX89rriV67yAEqKAlABKKq1VTl0Fi7x3Dr/AGXPe1EW+Uc5dFmxNznPKGjQ7DYhVAPe4wMOo7VzoiR+I0X+1ZeDf7Xoicbpmfh0/nzenb0kRHKn5rvyV1H1xnvmXN+MU+E/Ns7r8I+RfJXP9cZ75k/GKfCfmvdfhBfJXP8AW4/fKn4xT4T8zuvwg3yWT/W4/fKp+M0+E/M7r8IWaX0ZPBGeqZYcWsfI79oiy119sxMcqZnzllTpcfB12BbM01H342l8xGUzykOksd4bwaOgHjdeXqNbdv8AKqcR4R0dFFqmnp1bBK45ltCSscqYlTKhJWOVcxt5PkgiPOe37Dl7HYn51f8A1/zDm1fqx5uL9eB4L6RwmdMwoCjyHkgN8MZHBAD6NhF0GROyxsqiNQMgZUdEWr5WOr6+ejIxh1mlerpo5PF1U83KDV3mu+HBLew2IGwK2w1StVkAadFZRUeNLqGVB85uinFURvQV46rLVQv4dqwHoTY/ArZaqxXTPxa7sZoqj4O6cV7Lx0ZKASUVBVTBjHPPAfFa7teyiamdqjfVFLpvRfgQlBxSduYF7m0bHDQZTZ0xHPMCBysTxFvj+09VOeFE+f2e/YtxjL0heK6iQK6ASVMqYlY5UJKxyoSVjlTEqZUJKxypiVjlcBJUmVcN6S6j72i/KSHw+aB/5e5e92HR+ZX5R/P7OLWT6sOHzL6BxHD0BCUoDE55oDFSeaCF2qAcqAcqBsqDp3s0Xy1PV9bVPJzW0L7NK9jTxyeHqZ5uUgfd/mu6IcMy3ad5FrLNis9sXb0Cmd3VMMcKcD231VUNXkO5BSr6IZA8HX9yiu0pKjtI2Se2wOPW2o9917dFW6mKvF41dO2qafAZKzYhJQYm1UpbALcZAD0yuXHrJ9CPN16OPTnye2bHQhmG0DBuFDTeZMTST7ySvhNTOb1c/Gfq96iMUw2FoZmupkMSplQkrHKhJWOVMSplQkrHKmJWOVCSplQkrHKmJWMyryzbCs7aslIN2xWgb+hfN+0XL7HsyzwtNTnrVz+fT+2Hl6ivdcn4cmHlXoNBZUDZUCsgSBXQK6BZkCzqjrpo7BfK0dX1Vc8nF7TO3he3Yjk8O/PNzdGO8uyHHLpaWjLhoskE+Et3oIX66IKzqZABpSgGogeWFqgsbMYjkJpZNLuJiJ3ZjvZ/Uefgu7SXYj0J/Zxaq1n04/d0pK9BwgJUGJtS60Lfyg/hcuPW+pHn/iXZo/Xnye6bMfeFF+ZU38lq+Dv/AJtfnP1e9R6sNIlacswkrHKhJWOVCSplTErHKmJWOVCSplQkrHKhJWOVNdTKsbanGm0lO59x20gLIG8S/wBq3Ib/AHDiu3QaSdTdiP0xzn7fu037uyn4vJ+18b+J3lfaPJOHoCD0Dh6BwUC0QKwQMWoGyoByor1jF8FDWE+C8iNLicvU71mMPHtrDZxHiu21GHJcnLBw8d5dEOeXVUNdkFlmhVVRn1QVLqB0EkVr6oNZsMZbwuqjNr8FZJctIDv3oZDSMq2927ZWjQZ7l1uv910Uamunl1aK9NRVz6JnS1I/5LPtFbO+Ve6190p95n7RB7oWhzQO9m052I/qtV2/NyIiYw22rEW5mYl7vs194UX5lTfyWr4nUT/5a/Ofq9ej1YaBK0ZZmJUmVCSscq86x3b+tp6qenjw5sscMrmMlL5RnA46NIXr2OzbVy3TXNzEzHw+7mqv1RMxhnn0mV/4Lb9ub/BbPwiz/W+n3TvNXumPpMr/AMFt+3N/gn4RZ/rfT7neavdD8pld+C2/bm/wU/B7P9b6fde81e6if6VKsGxoIQRvDppAR5ZVlHYduecXZ+Ufc73VH6Q/KtU/UYP17/8AFT8Bo/qT8v8AZ3yfdBN6UKtzbNpqWJ3tOdJNby7qzp7CsxPpVzMftH3SdXV7IcriOKT1EhmmkdJIdLmwDR7LQNAPAL1rNmizTsopxDmqqmqczKATlbGIxVFUSNrCgkbWoiVtYFAYqQqDEw5oDEvigcSIFnQe5bRutE7ouepsp6vn3a195HdUoZ1MzDW6rdDVLYbEd9lUGEBMZdBJ6u7kgjeC3egTZ/FBK2pPNUSRVZHFBP6+UTDN2hqs0YHig9y2bP8AoaL8ypv5TV8dqPza/Ofq9Kj1YaBK0TLMJKxypiVMsjXWOTAS5YrgJcsVwYlRcPGNuqa+JVbub4/5Ma+z7L/9S3+/1l5V/wDMq/nsc86lK72pGYCgExnkoBIKoYoGQJQPdA+YqghKUBCoKCQVZQF64UR79tdJaJ3Rc9TZQ+fNpH3kPVWhnUjwgahbWqXWxZCzheyqMypAubILeDxZngcyg7puAN7LNpeysDh8ep8riBwRHNPkINlFO2pKCVtYgkbWIK+J1ALPNB7/ALKyh+H0LhudRUxH6pq+O1XK9cj4z9XpW/VhpkrnmWwJKxypiVjlQkqZVi7XV74KOWSM5ZDlja8fQzOALutr28bLr7Os03tRTTX05z8mq/VNNEzHV4nVsfFJ61HLK2e9zMHu7a/Mu3nz3r7GaKaqdkxE0+Hs+TzImYnOeb2/ZjEH1NFTVMgAklha6SwsC/cSBwBIv5r4fV2otX66KekS9a1VNVETLzna9wNfUke2weYjaD8QvrezIxpLflP1l5t/8ypjkLuaTZAgEwhBG6mCCN1IEEbqNBG6jKCN1MUVGYSgEsKBiEDFAyD37biW0Z6LmqbaHgWNvvIeqzoKkmHDRbYa5aTZTzRBEoLmG1IYQUHWR7T/AHPJfgrA5HGa7M4nmko52V1zdYqBA6BIAnbdtkHpXoj2vYI24VUPDJGOPqb3mzZGON+xufpAk25g2G7Xwu1dHVu41Ecvb9/u69Pc/TL1IleDl2BJUyoSVjlQkrGZZK9dSMnjfDIM0cjcrhuPgQeBBsfJZ2rtVquK6JxMMaqYqiYno4qX0bte8B9U8wZrljYg2VzfZz5rDrl9y9ue3qtvK36Xny+WP8uSNHz9bk6TF8Tp8OpmizWhjBFTU7dC7KLBoHBo0ueHWy8zTaa5rLvnzmf57fB0XLlNqn6PJ5qoyPdI43fI5z3nm5xuT8V9pRTFFMU09I5PJmZmcyYOCyQroEgSoSBIFZA2UIgTGEUBgCCN1KFUyidRqGUfqaLl7Ft9NZhHguWpvpeF4kbyHqttLGpdoh3Vm1rbUEhVDBA4JQBJHdBC6lQAaVABpigAwFQCYigrz0gdw1VHU4D6Q8QowI5bVsLdAJnFszRyEouT+kCvM1HZVm7OafRn4dPl9sN9Goqp+MO1w70q4fJpM2opnce0jMrPJ0dz7wF5N3sbUU+rir98fV006qievJuQ7ZYY8XFfSD8eVsR9zrLiq0Gqj/in5Z+jdF63P6hv2sw0anEKHyqInH4FYxodTP8AxVfKV41v3oZtZ6Q8NjuGzPnd7MEUjr9HEBvxXRb7J1VfWnEfGY+nVrnVW49uXM4t6UJXAtpadsIO6WoIkkHRje6D1J6L0rHYdEc7tefhHL+/+oaK9XM+rDiavEJZnmWaR8srt73m5tyHADwGi9u3bot07aIxDkmqapzM80QmKzRI2pKCRtWUEjaxBK2rCIlbUBFGJQgfMEQ4VDqBlQxRDIGQehekKbQhck9XTT0eM1Zu89VupYVNGlHdCza1liA3KhggcICQJAkD2QLKEDGMIBMAQA6lCCN9COQQQuw8ckA+pW4BAuxI4IAcwqAC1UNZUJQJAQQPdAQcUBdqUBCoKA21ZQStrEEjasIDFSEBCUKoftAg7H0iT6uHVcvtdEdHlDjd/mt1LVLXgGgWTFYagcoEqHQOgSAkCQOgQQEgcBBLHDdAnQ2QD2KBjAEEb6cIInUoQQupEEbqRABpSgAwlAJYUDWQMgRQNdA10CzIHD0BCQoH7Yqjt/SFL3nLljq3+x5zFq/zW+GqWxHuWTFM1QOVQggcIHQJASB0CQOge6IcORU8E9kBSVFygHt0DGRECXoBLkA3QJUKygbKFQxiCgA04QRupQqIX0qCJ0CCJzLIqMqBlQ6gSD//2Q==\">\n",
    "\n",
    "\n",
    "\n",
    "\n",
    "*Python lenguaje de progrmacion\n",
    "*JAVA LENGUAJE DE PROGRAMACION\n",
    " *php lenguaje de programacion "
   ]
  },
  {
   "cell_type": "code",
   "execution_count": 1,
   "id": "befd5232-537a-493e-a331-f04fe83ee88e",
   "metadata": {},
   "outputs": [
    {
     "data": {
      "text/plain": [
       "'esto es un comentario varias lineas de comentario'"
      ]
     },
     "execution_count": 1,
     "metadata": {},
     "output_type": "execute_result"
    }
   ],
   "source": [
    "#esto es un comentario\n",
    "'''esto es un comentario varias lineas de comentario'''"
   ]
  },
  {
   "cell_type": "code",
   "execution_count": 2,
   "id": "736bddb7-ffad-4f5f-9e12-cff8eca5df9d",
   "metadata": {},
   "outputs": [
    {
     "name": "stdout",
     "output_type": "stream",
     "text": [
      " el resultado de a es: 5\n"
     ]
    }
   ],
   "source": [
    "a= 5\n",
    "print (\" el resultado de a es:\" ,+a)"
   ]
  },
  {
   "cell_type": "code",
   "execution_count": null,
   "id": "fa6edb21-9ec3-421f-95cd-078a8afd5ae8",
   "metadata": {},
   "outputs": [],
   "source": []
  }
 ],
 "metadata": {
  "kernelspec": {
   "display_name": "Python 3 (ipykernel)",
   "language": "python",
   "name": "python3"
  },
  "language_info": {
   "codemirror_mode": {
    "name": "ipython",
    "version": 3
   },
   "file_extension": ".py",
   "mimetype": "text/x-python",
   "name": "python",
   "nbconvert_exporter": "python",
   "pygments_lexer": "ipython3",
   "version": "3.11.13"
  }
 },
 "nbformat": 4,
 "nbformat_minor": 5
}
