{
 "cells": [
  {
   "cell_type": "markdown",
   "id": "d83387b9-6393-4e6d-a3b4-4b465b27c0f9",
   "metadata": {},
   "source": [
    "<img src=\"img/Recurso-26.png\" width='200'>\n",
    "\n",
    "## Deber 2\n",
    "![logo](img/python_logo.png)\n",
    "\n",
    "*Stalin Ramirez*\n"
   ]
  },
  {
   "cell_type": "code",
   "execution_count": 2,
   "id": "20bbfb2c-b633-40cc-a816-5e42930faa57",
   "metadata": {},
   "outputs": [
    {
     "name": "stdout",
     "output_type": "stream",
     "text": [
      "210\n"
     ]
    }
   ],
   "source": [
    "# 1. Escribe un programa que calcule la suma de todos los elementos de una *lista* dada. La lista sólo puede contener elementos numéricos.\n",
    "numeros = [10,20,30,40,50,60]\n",
    "total = sum(numeros)\n",
    "print(total)"
   ]
  },
  {
   "cell_type": "code",
   "execution_count": 6,
   "id": "1041829b-ced9-4224-ada9-7e0c66fd456e",
   "metadata": {},
   "outputs": [
    {
     "name": "stdout",
     "output_type": "stream",
     "text": [
      "la lista sin duplicados es: [1, 2, 3, 4, 5, 6, 7, 8]\n"
     ]
    }
   ],
   "source": [
    "# 2. Dada una lista con elementos duplicados, escribir un programa que muestre una nueva lista con el mismo contenido que\n",
    "# la primera pero sin elementos duplicados. Para este ejercicio, no puedes hacer uso de objetos de tipo 'Set'. \n",
    "lista = [1,2,2,3,4,4,5,5,6,7,8,8]\n",
    "nueva = []\n",
    "for numero in lista :\n",
    "    if numero not in nueva :\n",
    "        nueva.append(numero)\n",
    "print(\"la lista sin duplicados es:\",nueva)\n",
    "        "
   ]
  },
  {
   "cell_type": "code",
   "execution_count": 1,
   "id": "9d94f448-fb9b-4936-9757-123b5e878046",
   "metadata": {},
   "outputs": [
    {
     "name": "stdout",
     "output_type": "stream",
     "text": [
      "Diccionario de cuadrados: {1: 1, 2: 4, 3: 9, 4: 16, 5: 25}\n"
     ]
    }
   ],
   "source": [
    "# 3. Escribe un programa que construya un diccionario que contenga un número (entre 1 y *n*) de elementos\n",
    "# de esta forma: (x, x*x). Ejemplo: para n = 5, el diccionario resultante sería {1: 1, 2: 4, 3: 9, 4: 16, 5: 25}\n",
    "n = 5\n",
    "diccionario = {}\n",
    "for x in range(1,n+1):\n",
    "    diccionario[x] = x*x\n",
    "    \n",
    "print(\"Diccionario de cuadrados:\", diccionario)"
   ]
  },
  {
   "cell_type": "code",
   "execution_count": 1,
   "id": "9e4a9c3e-c1b9-4ae0-b60b-c086780cae42",
   "metadata": {},
   "outputs": [
    {
     "name": "stdout",
     "output_type": "stream",
     "text": [
      "palabra encontrada abominablemente\n"
     ]
    }
   ],
   "source": [
    "# 4. Escribe un programa que, dada una lista de palabras, compruebe si alguna empieza por 'a' y tiene más de 9 caracteres. \n",
    "# Si dicha palabra existe, el programa deberá terminar en el momento exacto de encontrarla. \n",
    "# El programa también debe mostrar un mensaje apropiado por pantalla que indique el éxito o el fracaso de la búsqueda. \n",
    "# En caso de éxito, también se mostrará por pantalla la palabra encontrada.\n",
    "palabras = [\"animal\", \"atardecer\", \"arcoiris\", \"amarillo\", \"abominablemente\"]\n",
    "for palabra in palabras:\n",
    "    if palabra.startswith(\"a\") and len(palabra)> 9:\n",
    "        print(\"palabra encontrada\",palabra)\n",
    "        break\n",
    "else :\n",
    "        print (\"no se econtro niguna palabra con las condicones requeridas\")"
   ]
  },
  {
   "cell_type": "code",
   "execution_count": 14,
   "id": "8f553f02-1f12-4eb0-a4bc-3647bc3c622f",
   "metadata": {},
   "outputs": [
    {
     "name": "stdout",
     "output_type": "stream",
     "text": [
      "Índices donde L[i] es múltiplo de 3: [0, 3, 5]\n"
     ]
    }
   ],
   "source": [
    "# 5. Dada una lista *L* de números positivos, escribir un programa que muestre otra lista (ordenada) que contenga todo índice *\n",
    "# i* que cumpla la siguiente condición: *L[i]* es múltiplo de 3. Por ejemplo, dada la lista *L* = [3,5,13,12,1,9] el p\n",
    "# rograma mostrará la lista [0,3,5] dado que *L[0], L[3] y L[5]* son,\n",
    "# respectivamente, 3, 12 y 9, que son los únicos múltiplos de 3 que hay en *L*.\n",
    "L = [3, 5, 13, 12, 1, 9]     \n",
    "indices = []                \n",
    "for i in range(len(L)):      \n",
    "    if L[i] % 3 == 0:        \n",
    "        indices.append(i)    \n",
    "\n",
    "print(\"Índices donde L[i] es múltiplo de 3:\", indices)\n"
   ]
  },
  {
   "cell_type": "code",
   "execution_count": 15,
   "id": "f16d07b3-a448-4485-b129-57674f62d6bf",
   "metadata": {},
   "outputs": [
    {
     "name": "stdout",
     "output_type": "stream",
     "text": [
      "La clave con el valor más alto es: c\n"
     ]
    }
   ],
   "source": [
    "# 6. Dado un diccionario cuyos elementos son pares de tipo string y numérico (es decir, las claves son de tipo 'str' \n",
    "# y los valores son de tipo 'int' o 'float'), escribe un programa que muestre por pantalla la clave cuyo valor asociado representa \n",
    "# el valor númerico más alto de todo el diccionario. Por ejemplo, para el diccionario {'a': 4.3, 'b': 1, 'c': 7.8, 'd': -5} \n",
    "# la respuesta sería 'c', dado que 7.8 es el valor más alto de los números 4.3, 1, 7.8 y -5.\n",
    "\n",
    "# Creamos un diccionario con claves de tipo texto (string) y valores numéricos\n",
    "datos = {'a': 4.3, 'b': 1, 'c': 7.8, 'd': -5}\n",
    "# 'clave_mayor' guardará la clave que tenga ese valor\n",
    "mayor_valor = float('-inf')\n",
    "clave_mayor = ''\n",
    "# Recorremos cada par clave:valor en el diccionario\n",
    "for clave, valor in datos.items():\n",
    "    # Si encontramos un valor más alto que el que teníamos antes\n",
    "    if valor > mayor_valor:\n",
    "        mayor_valor = valor      # Guardamos ese nuevo valor\n",
    "        clave_mayor = clave      # Y también su clave\n",
    "\n",
    "# Mostramos el resultado\n",
    "print(\"La clave con el valor más alto es:\", clave_mayor)\n"
   ]
  },
  {
   "cell_type": "code",
   "execution_count": 18,
   "id": "15742757-916c-43de-97e4-b3da7992c1ea",
   "metadata": {},
   "outputs": [
    {
     "name": "stdout",
     "output_type": "stream",
     "text": [
      "6 x 7 = 42\n",
      "6 x 11 = 66\n",
      "8 x 7 = 56\n",
      "8 x 11 = 88\n"
     ]
    }
   ],
   "source": [
    "# Ejercicio 7: Multiplicar según condiciones en dos listas\n",
    "\n",
    "a = [2, 4, 6, 8]      # Lista A\n",
    "b = [7, 11, 15, 22]   # Lista B\n",
    "\n",
    "for num_a in a:                    # Recorremos cada elemento en lista A\n",
    "    if num_a > 5:                  # Condición: solo usar números mayores a 5 de A\n",
    "        for num_b in b:           # Recorremos cada elemento en lista B\n",
    "            if num_b < 14:        # Condición: solo usar números menores a 14 de B\n",
    "                resultado = num_a * num_b  # Multiplicamos los dos números\n",
    "                print(f\"{num_a} x {num_b} = {resultado}\")  # Mostramos resultado\n"
   ]
  },
  {
   "cell_type": "code",
   "execution_count": 17,
   "id": "89737a7f-09ae-40f3-818d-f513b2ff5db3",
   "metadata": {},
   "outputs": [
    {
     "name": "stdin",
     "output_type": "stream",
     "text": [
      "Ingresa un número:  5\n"
     ]
    },
    {
     "name": "stdout",
     "output_type": "stream",
     "text": [
      "El resultado de 10/X es: 2.0\n"
     ]
    }
   ],
   "source": [
    "# Ejercicio 8: División con manejo de errores\n",
    "\n",
    "try:\n",
    "    x = float(input(\"Ingresa un número: \"))  # Solicitamos un número al usuario y lo convertimos a decimal (float)\n",
    "    resultado = 10 / x                        # Realizamos la división 10 dividido para el número ingresado\n",
    "    print(\"El resultado de 10/X es:\", resultado)  # Mostramos el resultado en pantalla\n",
    "except ValueError:  # Si el usuario no escribe un número (por ejemplo, escribe letras)\n",
    "    print(\"Error: Debes ingresar un número válido.\")  # Mostramos mensaje de error por valor inválido\n",
    "except ZeroDivisionError:  # Si el usuario escribe 0 (no se puede dividir por cero)\n",
    "    print(\"Error: No se puede dividir para cero.\")  # Mostramos mensaje de error por división entre cero\n"
   ]
  },
  {
   "cell_type": "code",
   "execution_count": null,
   "id": "bdf6d89b-5df4-4934-9d82-80f756f38b97",
   "metadata": {},
   "outputs": [],
   "source": [
    "# Ejercicio 9: Obtener valor de una clave ingresada por el usuario\n",
    "\n",
    "mi_diccionario = {'nombre': 'Stalin', 'edad': 27, 'ciudad': 'Quito'}  # Diccionario con datos personales\n",
    "\n",
    "clave = input(\"Ingresa una clave: \")  # Pedimos al usuario que ingrese una clave (ej: 'nombre')\n",
    "\n",
    "if clave in mi_diccionario:               # Verificamos si la clave existe en el diccionario\n",
    "    print(\"El valor es:\", mi_diccionario[clave])  # Si existe, mostramos el valor correspondiente\n",
    "else:\n",
    "    print(\"Esa clave no existe en el diccionario.\")  # Si no existe, mostramos mensaje de error\n"
   ]
  },
  {
   "cell_type": "code",
   "execution_count": 19,
   "id": "a0c4b41b-4864-4fe3-915d-364fb5974bcd",
   "metadata": {},
   "outputs": [
    {
     "name": "stdout",
     "output_type": "stream",
     "text": [
      "Enteros positivos: [1, 3, 5, 7]\n"
     ]
    }
   ],
   "source": [
    "# Ejercicio 10: Filtrar enteros positivos usando list comprehension\n",
    "\n",
    "numeros = [1, 2.5, 3, 4.0, 5, -6, 7]  # Lista con diferentes tipos de números (enteros, flotantes y negativos)\n",
    "\n",
    "# Creamos una nueva lista que contiene sólo los números que:\n",
    "# - Son enteros (usamos isinstance para verificar el tipo)\n",
    "# - Son mayores que cero\n",
    "enteros_positivos = [n for n in numeros if isinstance(n, int) and n > 0]  # List comprehension\n",
    "\n",
    "print(\"Enteros positivos:\", enteros_positivos)  # Mostramos la nueva lista"
   ]
  },
  {
   "cell_type": "code",
   "execution_count": 20,
   "id": "249f09e3-8bfe-435e-be0c-3e0fd5558fdb",
   "metadata": {},
   "outputs": [
    {
     "name": "stdout",
     "output_type": "stream",
     "text": [
      "Vocales en la palabra: {'o', 'e', 'a'}\n"
     ]
    }
   ],
   "source": [
    "# Ejercicio 11: Obtener vocales únicas de una palabra usando set comprehension\n",
    "\n",
    "palabra = \"desarrollador\"  # Palabra a analizar\n",
    "\n",
    "# Creamos un conjunto (set) con las letras de la palabra que son vocales\n",
    "vocales = {letra for letra in palabra if letra in \"aeiou\"}  # El set sólo guarda elementos únicos\n",
    "\n",
    "print(\"Vocales en la palabra:\", vocales)  # Mostramos el conjunto de vocales encontradas\n"
   ]
  },
  {
   "cell_type": "code",
   "execution_count": 21,
   "id": "3c5c179d-c1a1-42f6-80fe-2619007e5f34",
   "metadata": {},
   "outputs": [
    {
     "name": "stdout",
     "output_type": "stream",
     "text": [
      "Números que contienen el 3: [3, 13, 23, 30, 31, 32, 33, 34, 35, 36, 37, 38, 39, 43]\n"
     ]
    }
   ],
   "source": [
    "# Ejercicio 12: Números del 0 al 50 que contienen el dígito 3\n",
    "\n",
    "# Generamos una lista que incluye los números entre 0 y 50 que contengan el dígito '3'\n",
    "numeros_con_3 = [n for n in range(51) if '3' in str(n)]  # Convertimos cada número a texto y revisamos si contiene '3'\n",
    "\n",
    "print(\"Números que contienen el 3:\", numeros_con_3)  # Mostramos la lista resultante\n"
   ]
  },
  {
   "cell_type": "code",
   "execution_count": 22,
   "id": "e83b4f2b-72fb-4efc-9d99-60271e48b4fa",
   "metadata": {},
   "outputs": [
    {
     "name": "stdout",
     "output_type": "stream",
     "text": [
      "Tamaños de palabras: {'Soy': 3, 'un': 2, 'ser': 3, 'humano': 6}\n"
     ]
    }
   ],
   "source": [
    "# Ejercicio 13: Tamaño de palabras en una frase con dictionary comprehension\n",
    "\n",
    "frase = \"Soy un ser humano\"  # Frase de entrada\n",
    "\n",
    "# Separamos la frase en palabras usando split() y generamos un diccionario donde:\n",
    "# - La clave es la palabra\n",
    "# - El valor es su longitud\n",
    "longitudes = {palabra: len(palabra) for palabra in frase.split()}\n",
    "\n",
    "print(\"Tamaños de palabras:\", longitudes)  # Mostramos el diccionario resultante\n"
   ]
  },
  {
   "cell_type": "code",
   "execution_count": 1,
   "id": "df08470f-abdd-4e54-8e86-214ee55415e9",
   "metadata": {},
   "outputs": [
    {
     "data": {
      "text/plain": [
       "[1, 2, 3, 4, 5, 'seis', 'siete', 'ocho', 'nueve', 'diez']"
      ]
     },
     "execution_count": 1,
     "metadata": {},
     "output_type": "execute_result"
    }
   ],
   "source": [
    "# Ejercicio 14: Lista del 1 al 10 con mezcla de números y palabras\n",
    "numero_a_palabra = {6 : \"seis\", 7 : \"siete\", 8 : \"ocho\", 9 : \"nueve\", 10 : \"diez\"}\n",
    "\n",
    "[numero if numero <= 5 else numero_a_palabra[numero] for numero in range(1,11)]\n"
   ]
  },
  {
   "cell_type": "code",
   "execution_count": null,
   "id": "43376a79-70c7-4444-93bd-df567736360b",
   "metadata": {},
   "outputs": [],
   "source": []
  }
 ],
 "metadata": {
  "kernelspec": {
   "display_name": "Python 3 (ipykernel)",
   "language": "python",
   "name": "python3"
  },
  "language_info": {
   "codemirror_mode": {
    "name": "ipython",
    "version": 3
   },
   "file_extension": ".py",
   "mimetype": "text/x-python",
   "name": "python",
   "nbconvert_exporter": "python",
   "pygments_lexer": "ipython3",
   "version": "3.11.13"
  }
 },
 "nbformat": 4,
 "nbformat_minor": 5
}
